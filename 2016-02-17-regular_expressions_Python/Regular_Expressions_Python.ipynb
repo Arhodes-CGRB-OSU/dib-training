{
 "cells": [
  {
   "cell_type": "markdown",
   "metadata": {},
   "source": [
    "# Using Regular Expressions for finding DNA sequences of interest in Python\n",
    "\n",
    "Now that we have learned how to use regular expressions, let apply them using Python to find some DNA sequences of interest. In the first example we will look for key sequences that are part of the Crispr bacterial immune system. In the second example we will search for transcription factor binding sites."
   ]
  },
  {
   "cell_type": "markdown",
   "metadata": {},
   "source": [
    "# Crispr - a bacterial immune system\n",
    "*Add summary of Crispr bacterial immune system here and figure to illustrate spacer and repeats. Layout problem we are trying to solve.*"
   ]
  },
  {
   "cell_type": "markdown",
   "metadata": {},
   "source": [
    "## Loading fasta files via Screed\n",
    "http://screed.readthedocs.org/en/latest/screed.html"
   ]
  },
  {
   "cell_type": "code",
   "execution_count": 4,
   "metadata": {
    "collapsed": true
   },
   "outputs": [],
   "source": [
    "import screed"
   ]
  },
  {
   "cell_type": "code",
   "execution_count": 5,
   "metadata": {
    "collapsed": false
   },
   "outputs": [
    {
     "name": "stdout",
     "output_type": "stream",
     "text": [
      "gi|218665024|ref|NC_011761.1| Acidithiobacillus ferrooxidans ATCC 23270, complete genome\n",
      "AGTTAAAAGAAAAAATATAAATTATTTTTATAAAGAGACGCCATCGATCCCTTTCCAGTCCTGGCATTCTAGGAGCACATCCCGATGAAAATCACCATA\n"
     ]
    }
   ],
   "source": [
    "# assign filename to variable\n",
    "Genomefastafile = \"Acidithiobacillus_ferrooxidans.fasta\"\n",
    "\n",
    "# Loop through all the records in fasta file and assign to \n",
    "# variables (assuming only one genome is in the file)\n",
    "for record in screed.open(Genomefastafile):\n",
    "    Genome_seqname = record.name\n",
    "    Genome_sequence = record.sequence\n",
    "    \n",
    "print(Genome_seqname)\n",
    "print(Genome_sequence[1:100])"
   ]
  },
  {
   "cell_type": "markdown",
   "metadata": {},
   "source": [
    "### Load Crispr repeat sequences"
   ]
  },
  {
   "cell_type": "code",
   "execution_count": 7,
   "metadata": {
    "collapsed": false
   },
   "outputs": [
    {
     "name": "stdout",
     "output_type": "stream",
     "text": [
      "{'NC_011761_6': 'CCTGGTCAGTACAACAACGGCTACGG', 'NC_011761_5': 'GGGCGATTCGTTTCACCTCCTCCGC', 'NC_011761_4': 'GTATGCCGCCATATGCGCAGCTTGTAAT', 'NC_011761_2': 'CTTCTCAGCCGCGCGTGTGGCGGCATACCGC', 'NC_011761_1': 'CTTCTCAGCCGCGCGTGTGGCGGCATACCGC', 'NC_011761_3': 'GTATGCCGCCAGGTGCGCGGCTGAGAAC'}\n"
     ]
    }
   ],
   "source": [
    "# assign filename to variable\n",
    "Crisprfastafile = \"Acidithiobacillus_ferrooxidans_Crispr.fasta\"\n",
    "\n",
    "# Create empty lists to append sequences to\n",
    "Crispr_seqname = list()\n",
    "Crispr_sequence = list()\n",
    "\n",
    "# Loop through all the records in fasta file and add them the the lists\n",
    "for record in screed.open(Crisprfastafile):\n",
    "    Crispr_seqname.append(record.name)\n",
    "    Crispr_sequence.append(record.sequence) \n",
    "\n",
    "# zip the two lists together to make a dictionary\n",
    "Crispr_repeats = dict(zip(Crispr_seqname, Crispr_sequence))\n",
    " \n",
    "# print the dictionary to view the seqeunces and their names    \n",
    "print(Crispr_repeats)"
   ]
  },
  {
   "cell_type": "markdown",
   "metadata": {},
   "source": [
    "## Find Crispr repeats"
   ]
  },
  {
   "cell_type": "markdown",
   "metadata": {},
   "source": [
    "### Access the sequence of a single repeat"
   ]
  },
  {
   "cell_type": "code",
   "execution_count": 30,
   "metadata": {
    "collapsed": false
   },
   "outputs": [
    {
     "data": {
      "text/plain": [
       "'CTTCTCAGCCGCGCGTGTGGCGGCATACCGC'"
      ]
     },
     "execution_count": 30,
     "metadata": {},
     "output_type": "execute_result"
    }
   ],
   "source": [
    "# select the sequence from the dictionary by subsetting it's key\n",
    "Crispr_repeats['NC_011761_1']"
   ]
  },
  {
   "cell_type": "markdown",
   "metadata": {},
   "source": [
    "### Import regular expression library"
   ]
  },
  {
   "cell_type": "code",
   "execution_count": 9,
   "metadata": {
    "collapsed": true
   },
   "outputs": [],
   "source": [
    "import re"
   ]
  },
  {
   "cell_type": "markdown",
   "metadata": {},
   "source": [
    "### Find a single repeat in genome"
   ]
  },
  {
   "cell_type": "code",
   "execution_count": 31,
   "metadata": {
    "collapsed": false
   },
   "outputs": [
    {
     "name": "stdout",
     "output_type": "stream",
     "text": [
      "matching sequence for a NC_011761_1 Crispr repeat is: CTTCTCAGCCGCGCGTGTGGCGGCATACCGC\n"
     ]
    }
   ],
   "source": [
    "# use re.search to find sequence in genome, inputs are 1) pattern and 2) string to search for pattern\n",
    "# '(' and ')' surround the string that you want to capture\n",
    "first_repeat = re.search('(' + Crispr_repeats['NC_011761_1'] + ')', Genome_sequence)\n",
    "\n",
    "# re.search object has has a method called group() for what it matched (one group per capture group)\n",
    "print('matching sequence for a NC_011761_1 Crispr repeat is:', first_repeat.group(1))"
   ]
  },
  {
   "cell_type": "code",
   "execution_count": 32,
   "metadata": {
    "collapsed": false
   },
   "outputs": [
    {
     "name": "stdout",
     "output_type": "stream",
     "text": [
      "matching sequence postition for NC_011761_1 Crispr is: (934846, 934877)\n"
     ]
    }
   ],
   "source": [
    "# re.search object also has position information!\n",
    "print('matching sequence postition for NC_011761_1 Crispr is:', first_repeat.span())"
   ]
  },
  {
   "cell_type": "markdown",
   "metadata": {},
   "source": [
    "### Compile a pattern ahead of time for speed and readability"
   ]
  },
  {
   "cell_type": "code",
   "execution_count": 50,
   "metadata": {
    "collapsed": false
   },
   "outputs": [
    {
     "name": "stdout",
     "output_type": "stream",
     "text": [
      "matching sequence for NC_011761_1 Crispr is: CTTCTCAGCCGCGCGTGTGGCGGCATACCGC\n"
     ]
    }
   ],
   "source": [
    "# specify and compile pattern ahead of time\n",
    "NC_011761_1pattern = re.compile('(' + Crispr_repeats['NC_011761_1'] + ')')\n",
    "\n",
    "# then use re.search \n",
    "first_repeat = NC_011761_1pattern.search(Genome_sequence)\n",
    "print('matching sequence for NC_011761_1 Crispr is:', first_repeat.group(1))"
   ]
  },
  {
   "cell_type": "markdown",
   "metadata": {},
   "source": [
    "### Find unknown sequence between Crispr repeats"
   ]
  },
  {
   "cell_type": "code",
   "execution_count": 63,
   "metadata": {
    "collapsed": false
   },
   "outputs": [
    {
     "name": "stdout",
     "output_type": "stream",
     "text": [
      "The spacer sequence is: TGATCATCTTGGTAGACCGCGACATATCA\n"
     ]
    }
   ],
   "source": [
    "# put capture group between sequences\n",
    "NC_011761_1spacerspattern = re.compile(Crispr_repeats['NC_011761_1'] + '([ATCG]+)' + Crispr_repeats['NC_011761_1'])\n",
    "\n",
    "# search for all occurrences of pattern\n",
    "first_repeat_spacers = NC_011761_1spacerspattern.search(Genome_sequence)\n",
    "print('The spacer sequence is:',  first_repeat_spacers.group(1))"
   ]
  },
  {
   "cell_type": "markdown",
   "metadata": {},
   "source": [
    "### Find Crispr repeats and spacer"
   ]
  },
  {
   "cell_type": "code",
   "execution_count": 64,
   "metadata": {
    "collapsed": false
   },
   "outputs": [
    {
     "name": "stdout",
     "output_type": "stream",
     "text": [
      "The repeat sequence is: CTTCTCAGCCGCGCGTGTGGCGGCATACCGC\n",
      "The spacer sequence is: TGATCATCTTGGTAGACCGCGACATATCA\n"
     ]
    }
   ],
   "source": [
    "### Use re.findall to find multiple repeats and the spacer sequences!\n",
    "NC_011761_1pattern = re.compile('(' + Crispr_repeats['NC_011761_1'] + ')' + '([ATCG]+)' + '(' + Crispr_repeats['NC_011761_1'] + ')' )\n",
    "\n",
    "# search for all occurrences of pattern\n",
    "first_repeat_matches = NC_011761_1pattern.search(Genome_sequence)\n",
    "print('The repeat sequence is:', first_repeat_matches.group(1))\n",
    "print('The spacer sequence is:', first_repeat_matches.group(2))"
   ]
  },
  {
   "cell_type": "markdown",
   "metadata": {},
   "source": [
    "### Use re.findall to find multiple repeats"
   ]
  },
  {
   "cell_type": "code",
   "execution_count": 13,
   "metadata": {
    "collapsed": false
   },
   "outputs": [
    {
     "name": "stdout",
     "output_type": "stream",
     "text": [
      "All the matches are: ['CTTCTCAGCCGCGCGTGTGGCGGCATACCGC', 'CTTCTCAGCCGCGCGTGTGGCGGCATACCGC']\n"
     ]
    }
   ],
   "source": [
    "# specify and compile pattern ahead of time\n",
    "NC_011761_1pattern = re.compile('(' + Crispr_repeats['NC_011761_1'] + ')')\n",
    "\n",
    "# search for all occurrences of pattern\n",
    "first_repeat_matches = NC_011761_1pattern.findall(Genome_sequence)\n",
    "print('All the matches are:', first_repeat_matches)"
   ]
  },
  {
   "cell_type": "markdown",
   "metadata": {},
   "source": [
    "### Finding positions of multiple matches\n",
    "`re.findall()` is very useful for finding multiple sequences, but what if we want to find the positions of multiple sequences? For example, multiple repeats? To do this we need to use another function, `re.finditer()`:"
   ]
  },
  {
   "cell_type": "code",
   "execution_count": 73,
   "metadata": {
    "collapsed": false
   },
   "outputs": [
    {
     "name": "stdout",
     "output_type": "stream",
     "text": [
      "934846 934877 CTTCTCAGCCGCGCGTGTGGCGGCATACCGC\n",
      "934906 934937 CTTCTCAGCCGCGCGTGTGGCGGCATACCGC\n"
     ]
    }
   ],
   "source": [
    "# specify and compile pattern ahead of time\n",
    "NC_011761_1pattern = re.compile('(' + Crispr_repeats['NC_011761_1'] + ')')\n",
    "\n",
    "# search for all occurrences AND positions of pattern\n",
    "first_repeat_matches = NC_011761_1pattern.finditer(Genome_sequence)\n",
    "\n",
    "# loop over finditer object and print start position, end position and sequence (capture group)\n",
    "for match in first_repeat_matches:\n",
    "    print(match.start(), match.end(), match.group(1))"
   ]
  },
  {
   "cell_type": "markdown",
   "metadata": {},
   "source": [
    "## Challenge\n",
    "\n",
    "1. Find and print the spacer for the 2nd Crispr repeats (NC_011761_2) of A. ferrooxidans. \n",
    "\n",
    "2. Find the positions for the repeats and the spacer.\n",
    "\n",
    "3. What about the reverse strand? How might we address this (we won't implement, just discuss)."
   ]
  },
  {
   "cell_type": "markdown",
   "metadata": {},
   "source": [
    "# Finding transcription factor binding site\n",
    "\n",
    "Transcription factors are key molecules for regulating gene expression. Finding new genes that have transcription factor binding sites using experimentally derived consensus sequences is a common method for searching for new genes whose expression might be regulated by the transcription factor that binds to that consensus sequence. \n",
    "\n",
    "Let's take the example of the well studied *C. elegans* transcription factor DAF-19. DAF-19's activity is absolutely required for the transcription of many cilia genes in C. elegans (this is true of its vertebrate homologue as well!). Cilia are cellular antennae whose function is critical for many sensory and developmental processes in eukaryotes.\n",
    "\n",
    "The consensus transcription factor binding site for DAF-19 (and other homologous RFX transcription factors) is illustrated below:\n",
    "\n",
    "![alt text](RFX.png)\n",
    "\n",
    "image from: http://crunch.unibas.ch/ENCODE_REPORTS/Snyder_Farnham_USC/StandardControl/report_TR4/index.html"
   ]
  },
  {
   "cell_type": "markdown",
   "metadata": {},
   "source": [
    "## Making a test for our Regular Expression\n",
    "\n",
    "Before we start searching for our regular expresssion, we should develop some test for it to help us build a good pattern to use. When we develop the test we should think about the edge cases we might encounter, such as no input sequence is provided, a protein sequence is provided instead of a dna sequence, or incorrect nucleotides are included at a position where they shouldn't be for that consensus sequence. We should also add some examples that we expect to work."
   ]
  },
  {
   "cell_type": "code",
   "execution_count": 100,
   "metadata": {
    "collapsed": true
   },
   "outputs": [],
   "source": [
    "def test_daf19_consensus():\n",
    "    assert daf19_consensus('') == None\n",
    "    assert daf19_consensus('SRTKNYFRYTRIYYTT') == None\n",
    "    assert daf19_consensus('CCTTGCCATGGCAACC') == None\n",
    "    assert daf19_consensus('CGTTGCCATGTCAACC') == None\n",
    "    assert daf19_consensus('CGTTGCGATGGCAACC') == None\n",
    "    assert daf19_consensus('CGTTGCCATGGCAACC') == ('CGTTGCCATGGCAACC')\n",
    "    assert daf19_consensus('CGTTGCCATGGCAACC') == ('CGTTACCATAGTAACC')"
   ]
  },
  {
   "cell_type": "markdown",
   "metadata": {},
   "source": [
    "When we run the test the first time, it should fail, since we have yet to write the function, daf_19_consensus() which\n",
    "will perform our regular expression search and matching."
   ]
  },
  {
   "cell_type": "code",
   "execution_count": 101,
   "metadata": {
    "collapsed": false
   },
   "outputs": [
    {
     "ename": "AttributeError",
     "evalue": "'NoneType' object has no attribute 'group'",
     "output_type": "error",
     "traceback": [
      "\u001b[0;31m---------------------------------------------------------------------------\u001b[0m",
      "\u001b[0;31mAttributeError\u001b[0m                            Traceback (most recent call last)",
      "\u001b[0;32m<ipython-input-101-227b8c76af2d>\u001b[0m in \u001b[0;36m<module>\u001b[0;34m()\u001b[0m\n\u001b[0;32m----> 1\u001b[0;31m \u001b[0mtest_daf19_consensus\u001b[0m\u001b[0;34m(\u001b[0m\u001b[0;34m)\u001b[0m\u001b[0;34m\u001b[0m\u001b[0m\n\u001b[0m",
      "\u001b[0;32m<ipython-input-100-336d38ac7016>\u001b[0m in \u001b[0;36mtest_daf19_consensus\u001b[0;34m()\u001b[0m\n\u001b[1;32m      5\u001b[0m     \u001b[0;32massert\u001b[0m \u001b[0mdaf19_consensus\u001b[0m\u001b[0;34m(\u001b[0m\u001b[0;34m'CGTTGCCATGTCAACC'\u001b[0m\u001b[0;34m)\u001b[0m \u001b[0;34m==\u001b[0m \u001b[0;32mNone\u001b[0m\u001b[0;34m\u001b[0m\u001b[0m\n\u001b[1;32m      6\u001b[0m     \u001b[0;32massert\u001b[0m \u001b[0mdaf19_consensus\u001b[0m\u001b[0;34m(\u001b[0m\u001b[0;34m'CGTTGCGATGGCAACC'\u001b[0m\u001b[0;34m)\u001b[0m \u001b[0;34m==\u001b[0m \u001b[0;32mNone\u001b[0m\u001b[0;34m\u001b[0m\u001b[0m\n\u001b[0;32m----> 7\u001b[0;31m     \u001b[0;32massert\u001b[0m \u001b[0mdaf19_consensus\u001b[0m\u001b[0;34m(\u001b[0m\u001b[0;34m'CGTTGCCATGGCAACC'\u001b[0m\u001b[0;34m)\u001b[0m \u001b[0;34m==\u001b[0m \u001b[0;34m(\u001b[0m\u001b[0;34m'CGTTGCCATGGCAACC'\u001b[0m\u001b[0;34m)\u001b[0m\u001b[0;34m\u001b[0m\u001b[0m\n\u001b[0m\u001b[1;32m      8\u001b[0m     \u001b[0;32massert\u001b[0m \u001b[0mdaf19_consensus\u001b[0m\u001b[0;34m(\u001b[0m\u001b[0;34m'CGTTGCCATGGCAACC'\u001b[0m\u001b[0;34m)\u001b[0m \u001b[0;34m==\u001b[0m \u001b[0;34m(\u001b[0m\u001b[0;34m'CGTTACCATAGTAACC'\u001b[0m\u001b[0;34m)\u001b[0m\u001b[0;34m\u001b[0m\u001b[0m\n",
      "\u001b[0;32m<ipython-input-98-06bdead10b1c>\u001b[0m in \u001b[0;36mdaf19_consensus\u001b[0;34m(sequence_to_search)\u001b[0m\n\u001b[1;32m      7\u001b[0m \u001b[0;34m\u001b[0m\u001b[0m\n\u001b[1;32m      8\u001b[0m     \u001b[0;32mif\u001b[0m \u001b[0mfirst_daf19site\u001b[0m\u001b[0;34m:\u001b[0m\u001b[0;34m\u001b[0m\u001b[0m\n\u001b[0;32m----> 9\u001b[0;31m         \u001b[0;32mreturn\u001b[0m \u001b[0mfirst_repeat\u001b[0m\u001b[0;34m.\u001b[0m\u001b[0mgroup\u001b[0m\u001b[0;34m(\u001b[0m\u001b[0;36m1\u001b[0m\u001b[0;34m)\u001b[0m\u001b[0;34m\u001b[0m\u001b[0m\n\u001b[0m\u001b[1;32m     10\u001b[0m \u001b[0;34m\u001b[0m\u001b[0m\n\u001b[1;32m     11\u001b[0m     \u001b[0;32mreturn\u001b[0m \u001b[0;32mNone\u001b[0m\u001b[0;34m\u001b[0m\u001b[0m\n",
      "\u001b[0;31mAttributeError\u001b[0m: 'NoneType' object has no attribute 'group'"
     ]
    }
   ],
   "source": [
    "test_daf19_consensus()"
   ]
  },
  {
   "cell_type": "markdown",
   "metadata": {},
   "source": [
    "Let's now start to write the actual `daf19_consensus()` function, for the case that we get no input:"
   ]
  },
  {
   "cell_type": "code",
   "execution_count": 102,
   "metadata": {
    "collapsed": false
   },
   "outputs": [],
   "source": [
    "def daf19_consensus(sequence_to_search):\n",
    "    if sequence_to_search == '':\n",
    "        return None"
   ]
  },
  {
   "cell_type": "markdown",
   "metadata": {},
   "source": [
    "Now let's run our test code:"
   ]
  },
  {
   "cell_type": "code",
   "execution_count": 103,
   "metadata": {
    "collapsed": false
   },
   "outputs": [
    {
     "ename": "AssertionError",
     "evalue": "",
     "output_type": "error",
     "traceback": [
      "\u001b[0;31m---------------------------------------------------------------------------\u001b[0m",
      "\u001b[0;31mAssertionError\u001b[0m                            Traceback (most recent call last)",
      "\u001b[0;32m<ipython-input-103-227b8c76af2d>\u001b[0m in \u001b[0;36m<module>\u001b[0;34m()\u001b[0m\n\u001b[0;32m----> 1\u001b[0;31m \u001b[0mtest_daf19_consensus\u001b[0m\u001b[0;34m(\u001b[0m\u001b[0;34m)\u001b[0m\u001b[0;34m\u001b[0m\u001b[0m\n\u001b[0m",
      "\u001b[0;32m<ipython-input-100-336d38ac7016>\u001b[0m in \u001b[0;36mtest_daf19_consensus\u001b[0;34m()\u001b[0m\n\u001b[1;32m      5\u001b[0m     \u001b[0;32massert\u001b[0m \u001b[0mdaf19_consensus\u001b[0m\u001b[0;34m(\u001b[0m\u001b[0;34m'CGTTGCCATGTCAACC'\u001b[0m\u001b[0;34m)\u001b[0m \u001b[0;34m==\u001b[0m \u001b[0;32mNone\u001b[0m\u001b[0;34m\u001b[0m\u001b[0m\n\u001b[1;32m      6\u001b[0m     \u001b[0;32massert\u001b[0m \u001b[0mdaf19_consensus\u001b[0m\u001b[0;34m(\u001b[0m\u001b[0;34m'CGTTGCGATGGCAACC'\u001b[0m\u001b[0;34m)\u001b[0m \u001b[0;34m==\u001b[0m \u001b[0;32mNone\u001b[0m\u001b[0;34m\u001b[0m\u001b[0m\n\u001b[0;32m----> 7\u001b[0;31m     \u001b[0;32massert\u001b[0m \u001b[0mdaf19_consensus\u001b[0m\u001b[0;34m(\u001b[0m\u001b[0;34m'CGTTGCCATGGCAACC'\u001b[0m\u001b[0;34m)\u001b[0m \u001b[0;34m==\u001b[0m \u001b[0;34m(\u001b[0m\u001b[0;34m'CGTTGCCATGGCAACC'\u001b[0m\u001b[0;34m)\u001b[0m\u001b[0;34m\u001b[0m\u001b[0m\n\u001b[0m\u001b[1;32m      8\u001b[0m     \u001b[0;32massert\u001b[0m \u001b[0mdaf19_consensus\u001b[0m\u001b[0;34m(\u001b[0m\u001b[0;34m'CGTTGCCATGGCAACC'\u001b[0m\u001b[0;34m)\u001b[0m \u001b[0;34m==\u001b[0m \u001b[0;34m(\u001b[0m\u001b[0;34m'CGTTACCATAGTAACC'\u001b[0m\u001b[0;34m)\u001b[0m\u001b[0;34m\u001b[0m\u001b[0m\n",
      "\u001b[0;31mAssertionError\u001b[0m: "
     ]
    }
   ],
   "source": [
    "test_daf19_consensus()"
   ]
  },
  {
   "cell_type": "markdown",
   "metadata": {},
   "source": [
    "We passed the first few tests, but not others, let's now try to address these by adding a regular expression pattern to our function:"
   ]
  },
  {
   "cell_type": "code",
   "execution_count": 119,
   "metadata": {
    "collapsed": false
   },
   "outputs": [],
   "source": [
    "def daf19_consensus(sequence_to_search):\n",
    "    if sequence_to_search == '':\n",
    "        return None\n",
    "    \n",
    "    #pattern = re.compile('([ATCG]{1}[GA]{1}T{2}[GA]{1}C[CT]{1}[AT]{1}T[GA]{1}G[CT]{1}A{2}C[ATCG]{1})')\n",
    "    #first_daf19site = pattern.search(sequence_to_search)\n",
    "    \n",
    "    first_daf19site = re.search('([ATCG]{1}[GA]{1}T{2}[GA]{1}C[CT]{1}[AT]{1}T[GA]{1}G[CT]{1}A{2}C[ATCG]{1})', sequence_to_search)\n",
    "    \n",
    "    if first_daf19site:\n",
    "        return first_daf19site.group(1)\n",
    "    \n",
    "    return None"
   ]
  },
  {
   "cell_type": "markdown",
   "metadata": {},
   "source": [
    "Let's test out the function again:"
   ]
  },
  {
   "cell_type": "code",
   "execution_count": 120,
   "metadata": {
    "collapsed": false
   },
   "outputs": [
    {
     "ename": "AssertionError",
     "evalue": "",
     "output_type": "error",
     "traceback": [
      "\u001b[0;31m---------------------------------------------------------------------------\u001b[0m",
      "\u001b[0;31mAssertionError\u001b[0m                            Traceback (most recent call last)",
      "\u001b[0;32m<ipython-input-120-227b8c76af2d>\u001b[0m in \u001b[0;36m<module>\u001b[0;34m()\u001b[0m\n\u001b[0;32m----> 1\u001b[0;31m \u001b[0mtest_daf19_consensus\u001b[0m\u001b[0;34m(\u001b[0m\u001b[0;34m)\u001b[0m\u001b[0;34m\u001b[0m\u001b[0m\n\u001b[0m",
      "\u001b[0;32m<ipython-input-100-336d38ac7016>\u001b[0m in \u001b[0;36mtest_daf19_consensus\u001b[0;34m()\u001b[0m\n\u001b[1;32m      6\u001b[0m     \u001b[0;32massert\u001b[0m \u001b[0mdaf19_consensus\u001b[0m\u001b[0;34m(\u001b[0m\u001b[0;34m'CGTTGCGATGGCAACC'\u001b[0m\u001b[0;34m)\u001b[0m \u001b[0;34m==\u001b[0m \u001b[0;32mNone\u001b[0m\u001b[0;34m\u001b[0m\u001b[0m\n\u001b[1;32m      7\u001b[0m     \u001b[0;32massert\u001b[0m \u001b[0mdaf19_consensus\u001b[0m\u001b[0;34m(\u001b[0m\u001b[0;34m'CGTTGCCATGGCAACC'\u001b[0m\u001b[0;34m)\u001b[0m \u001b[0;34m==\u001b[0m \u001b[0;34m(\u001b[0m\u001b[0;34m'CGTTGCCATGGCAACC'\u001b[0m\u001b[0;34m)\u001b[0m\u001b[0;34m\u001b[0m\u001b[0m\n\u001b[0;32m----> 8\u001b[0;31m     \u001b[0;32massert\u001b[0m \u001b[0mdaf19_consensus\u001b[0m\u001b[0;34m(\u001b[0m\u001b[0;34m'CGTTGCCATGGCAACC'\u001b[0m\u001b[0;34m)\u001b[0m \u001b[0;34m==\u001b[0m \u001b[0;34m(\u001b[0m\u001b[0;34m'CGTTACCATAGTAACC'\u001b[0m\u001b[0;34m)\u001b[0m\u001b[0;34m\u001b[0m\u001b[0m\n\u001b[0m",
      "\u001b[0;31mAssertionError\u001b[0m: "
     ]
    }
   ],
   "source": [
    "test_daf19_consensus()"
   ]
  },
  {
   "cell_type": "markdown",
   "metadata": {},
   "source": [
    "It's looking better, but it looks like we need to tweak our pattern a bit..."
   ]
  },
  {
   "cell_type": "code",
   "execution_count": null,
   "metadata": {
    "collapsed": true
   },
   "outputs": [],
   "source": []
  },
  {
   "cell_type": "code",
   "execution_count": null,
   "metadata": {
    "collapsed": true
   },
   "outputs": [],
   "source": []
  },
  {
   "cell_type": "code",
   "execution_count": null,
   "metadata": {
    "collapsed": true
   },
   "outputs": [],
   "source": []
  }
 ],
 "metadata": {
  "kernelspec": {
   "display_name": "Python 3",
   "language": "python",
   "name": "python3"
  },
  "language_info": {
   "codemirror_mode": {
    "name": "ipython",
    "version": 3
   },
   "file_extension": ".py",
   "mimetype": "text/x-python",
   "name": "python",
   "nbconvert_exporter": "python",
   "pygments_lexer": "ipython3",
   "version": "3.4.3"
  }
 },
 "nbformat": 4,
 "nbformat_minor": 0
}
