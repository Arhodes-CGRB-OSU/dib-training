{
 "cells": [
  {
   "cell_type": "markdown",
   "metadata": {},
   "source": [
    "# Using Regular Expressions for finding DNA sequences of interest in Python\n",
    "\n",
    "Now that we have learned how to use regular expressions, let apply them using Python to find some DNA sequences of interest. In the first example we will look for key sequences that are part of the Crispr bacterial immune system. In the second example we will search for transcription factor binding sites."
   ]
  },
  {
   "cell_type": "markdown",
   "metadata": {},
   "source": [
    "# Crispr - a bacterial immune system\n",
    "\n",
    "The CRISPR/Cas system is a bacterial immune system which gives bacteria resistance to plasmids and phages. Crispr spacers (see diagram below) from the Bacterium's genome recognize and help cut sequences complementary to the spacers in the plasmids and phages. Repeats from the bacterium's genome flank the spacers. \n",
    "\n",
    "![alt text](imgs/CRISPR_locus_diagram.png)"
   ]
  },
  {
   "cell_type": "markdown",
   "metadata": {},
   "source": [
    "## Loading fasta files via Screed\n",
    "http://screed.readthedocs.org/en/latest/screed.html"
   ]
  },
  {
   "cell_type": "code",
   "execution_count": 1,
   "metadata": {
    "collapsed": true
   },
   "outputs": [],
   "source": [
    "import screed"
   ]
  },
  {
   "cell_type": "code",
   "execution_count": 2,
   "metadata": {
    "collapsed": false
   },
   "outputs": [
    {
     "name": "stdout",
     "output_type": "stream",
     "text": [
      "gi|218665024|ref|NC_011761.1| Acidithiobacillus ferrooxidans ATCC 23270, complete genome\n",
      "AGTTAAAAGAAAAAATATAAATTATTTTTATAAAGAGACGCCATCGATCCCTTTCCAGTCCTGGCATTCTAGGAGCACATCCCGATGAAAATCACCATA\n"
     ]
    }
   ],
   "source": [
    "# assign filename to variable\n",
    "Genomefastafile = \"data/Acidithiobacillus_ferrooxidans.fasta\"\n",
    "\n",
    "# Loop through all the records in fasta file and assign to \n",
    "# variables (assuming only one genome is in the file)\n",
    "for record in screed.open(Genomefastafile):\n",
    "    Genome_seqname = record.name\n",
    "    Genome_sequence = record.sequence\n",
    "    \n",
    "print(Genome_seqname)\n",
    "print(Genome_sequence[1:100])"
   ]
  },
  {
   "cell_type": "markdown",
   "metadata": {},
   "source": [
    "### Load Crispr repeat sequences"
   ]
  },
  {
   "cell_type": "code",
   "execution_count": 3,
   "metadata": {
    "collapsed": false
   },
   "outputs": [
    {
     "name": "stdout",
     "output_type": "stream",
     "text": [
      "{'NC_011761_1': 'CTTCTCAGCCGCGCGTGTGGCGGCATACCGC', 'NC_011761_5': 'GGGCGATTCGTTTCACCTCCTCCGC', 'NC_011761_3': 'GTATGCCGCCAGGTGCGCGGCTGAGAAC', 'NC_011761_6': 'CCTGGTCAGTACAACAACGGCTACGG', 'NC_011761_2': 'CTTCTCAGCCGCGCGTGTGGCGGCATACCGC', 'NC_011761_4': 'GTATGCCGCCATATGCGCAGCTTGTAAT'}\n"
     ]
    }
   ],
   "source": [
    "# assign filename to variable\n",
    "Crisprfastafile = \"data/Acidithiobacillus_ferrooxidans_Crispr.fasta\"\n",
    "\n",
    "# Create empty lists to append sequences to\n",
    "Crispr_seqname = list()\n",
    "Crispr_sequence = list()\n",
    "\n",
    "# Loop through all the records in fasta file and add them the the lists\n",
    "for record in screed.open(Crisprfastafile):\n",
    "    Crispr_seqname.append(record.name)\n",
    "    Crispr_sequence.append(record.sequence) \n",
    "\n",
    "# zip the two lists together to make a dictionary\n",
    "Crispr_repeats = dict(zip(Crispr_seqname, Crispr_sequence))\n",
    " \n",
    "# print the dictionary to view the seqeunces and their names    \n",
    "print(Crispr_repeats)"
   ]
  },
  {
   "cell_type": "markdown",
   "metadata": {},
   "source": [
    "## Find Crispr repeats"
   ]
  },
  {
   "cell_type": "markdown",
   "metadata": {},
   "source": [
    "### Access the sequence of a single repeat"
   ]
  },
  {
   "cell_type": "code",
   "execution_count": 4,
   "metadata": {
    "collapsed": false
   },
   "outputs": [
    {
     "data": {
      "text/plain": [
       "'CTTCTCAGCCGCGCGTGTGGCGGCATACCGC'"
      ]
     },
     "execution_count": 4,
     "metadata": {},
     "output_type": "execute_result"
    }
   ],
   "source": [
    "# select the sequence from the dictionary by subsetting it's key\n",
    "Crispr_repeats['NC_011761_1']"
   ]
  },
  {
   "cell_type": "markdown",
   "metadata": {},
   "source": [
    "### Import regular expression library"
   ]
  },
  {
   "cell_type": "code",
   "execution_count": 5,
   "metadata": {
    "collapsed": true
   },
   "outputs": [],
   "source": [
    "import re"
   ]
  },
  {
   "cell_type": "markdown",
   "metadata": {},
   "source": [
    "### Find a single repeat in genome"
   ]
  },
  {
   "cell_type": "code",
   "execution_count": 6,
   "metadata": {
    "collapsed": false
   },
   "outputs": [
    {
     "name": "stdout",
     "output_type": "stream",
     "text": [
      "matching sequence for a NC_011761_1 Crispr repeat is: CTTCTCAGCCGCGCGTGTGGCGGCATACCGC\n"
     ]
    }
   ],
   "source": [
    "# use re.search to find sequence in genome, inputs are 1) pattern and 2) string to search for pattern\n",
    "# '(' and ')' surround the string that you want to capture\n",
    "first_repeat = re.search('(' + Crispr_repeats['NC_011761_1'] + ')', Genome_sequence)\n",
    "\n",
    "# re.search object has has a method called group() for what it matched (one group per capture group)\n",
    "print('matching sequence for a NC_011761_1 Crispr repeat is:', first_repeat.group(1))"
   ]
  },
  {
   "cell_type": "code",
   "execution_count": 7,
   "metadata": {
    "collapsed": false
   },
   "outputs": [
    {
     "name": "stdout",
     "output_type": "stream",
     "text": [
      "matching sequence postition for NC_011761_1 Crispr is: (934846, 934877)\n"
     ]
    }
   ],
   "source": [
    "# re.search object also has position information!\n",
    "print('matching sequence postition for NC_011761_1 Crispr is:', first_repeat.span())"
   ]
  },
  {
   "cell_type": "markdown",
   "metadata": {},
   "source": [
    "### Compile a pattern ahead of time for speed and readability"
   ]
  },
  {
   "cell_type": "code",
   "execution_count": 8,
   "metadata": {
    "collapsed": false
   },
   "outputs": [
    {
     "name": "stdout",
     "output_type": "stream",
     "text": [
      "matching sequence for NC_011761_1 Crispr is: CTTCTCAGCCGCGCGTGTGGCGGCATACCGC\n"
     ]
    }
   ],
   "source": [
    "# specify and compile pattern ahead of time\n",
    "NC_011761_1pattern = re.compile('(' + Crispr_repeats['NC_011761_1'] + ')')\n",
    "\n",
    "# then use re.search \n",
    "first_repeat = NC_011761_1pattern.search(Genome_sequence)\n",
    "print('matching sequence for NC_011761_1 Crispr is:', first_repeat.group(1))"
   ]
  },
  {
   "cell_type": "markdown",
   "metadata": {},
   "source": [
    "### Find unknown sequence between Crispr repeats"
   ]
  },
  {
   "cell_type": "code",
   "execution_count": 9,
   "metadata": {
    "collapsed": false
   },
   "outputs": [
    {
     "name": "stdout",
     "output_type": "stream",
     "text": [
      "The spacer sequence is: TGATCATCTTGGTAGACCGCGACATATCA\n"
     ]
    }
   ],
   "source": [
    "# put capture group between sequences\n",
    "NC_011761_1spacerspattern = re.compile(Crispr_repeats['NC_011761_1'] + '([ATCG]+)' + Crispr_repeats['NC_011761_1'])\n",
    "\n",
    "# search for all occurrences of pattern\n",
    "first_repeat_spacers = NC_011761_1spacerspattern.search(Genome_sequence)\n",
    "print('The spacer sequence is:',  first_repeat_spacers.group(1))"
   ]
  },
  {
   "cell_type": "markdown",
   "metadata": {},
   "source": [
    "### Find Crispr repeats and spacer"
   ]
  },
  {
   "cell_type": "code",
   "execution_count": 10,
   "metadata": {
    "collapsed": false
   },
   "outputs": [
    {
     "name": "stdout",
     "output_type": "stream",
     "text": [
      "The repeat sequence is: CTTCTCAGCCGCGCGTGTGGCGGCATACCGC\n",
      "The spacer sequence is: TGATCATCTTGGTAGACCGCGACATATCA\n"
     ]
    }
   ],
   "source": [
    "### Use re.findall to find multiple repeats and the spacer sequences!\n",
    "NC_011761_1pattern = re.compile('(' + Crispr_repeats['NC_011761_1'] + ')' + '([ATCG]+)' + '(' + Crispr_repeats['NC_011761_1'] + ')' )\n",
    "\n",
    "# search for all occurrences of pattern\n",
    "first_repeat_matches = NC_011761_1pattern.search(Genome_sequence)\n",
    "print('The repeat sequence is:', first_repeat_matches.group(1))\n",
    "print('The spacer sequence is:', first_repeat_matches.group(2))"
   ]
  },
  {
   "cell_type": "markdown",
   "metadata": {},
   "source": [
    "### Use re.findall to find multiple repeats"
   ]
  },
  {
   "cell_type": "code",
   "execution_count": 11,
   "metadata": {
    "collapsed": false
   },
   "outputs": [
    {
     "name": "stdout",
     "output_type": "stream",
     "text": [
      "All the matches are: ['CTTCTCAGCCGCGCGTGTGGCGGCATACCGC', 'CTTCTCAGCCGCGCGTGTGGCGGCATACCGC']\n"
     ]
    }
   ],
   "source": [
    "# specify and compile pattern ahead of time\n",
    "NC_011761_1pattern = re.compile('(' + Crispr_repeats['NC_011761_1'] + ')')\n",
    "\n",
    "# search for all occurrences of pattern\n",
    "first_repeat_matches = NC_011761_1pattern.findall(Genome_sequence)\n",
    "print('All the matches are:', first_repeat_matches)"
   ]
  },
  {
   "cell_type": "markdown",
   "metadata": {},
   "source": [
    "### Finding positions of multiple matches\n",
    "`re.findall()` is very useful for finding multiple sequences, but what if we want to find the positions of multiple sequences? For example, multiple repeats? To do this we need to use another function, `re.finditer()`:"
   ]
  },
  {
   "cell_type": "code",
   "execution_count": 12,
   "metadata": {
    "collapsed": false
   },
   "outputs": [
    {
     "name": "stdout",
     "output_type": "stream",
     "text": [
      "934846 934877 CTTCTCAGCCGCGCGTGTGGCGGCATACCGC\n",
      "934906 934937 CTTCTCAGCCGCGCGTGTGGCGGCATACCGC\n"
     ]
    }
   ],
   "source": [
    "# specify and compile pattern ahead of time\n",
    "NC_011761_1pattern = re.compile('(' + Crispr_repeats['NC_011761_1'] + ')')\n",
    "\n",
    "# search for all occurrences AND positions of pattern\n",
    "first_repeat_matches = NC_011761_1pattern.finditer(Genome_sequence)\n",
    "\n",
    "# loop over finditer object and print start position, end position and sequence (capture group)\n",
    "for match in first_repeat_matches:\n",
    "    print(match.start(), match.end(), match.group(1))"
   ]
  },
  {
   "cell_type": "markdown",
   "metadata": {},
   "source": [
    "## Challenge\n",
    "\n",
    "1. Find and print the spacer for the 2nd Crispr repeats (NC_011761_2) of A. ferrooxidans. \n",
    "\n",
    "2. Find the positions for the repeats and the spacer.\n",
    "\n",
    "3. What about the reverse strand? How might we address this (we won't implement, just discuss)."
   ]
  },
  {
   "cell_type": "markdown",
   "metadata": {},
   "source": [
    "# Finding transcription factor binding site\n",
    "\n",
    "Transcription factors are key molecules for regulating gene expression. Finding new genes that have transcription factor binding sites using experimentally derived consensus sequences is a common method for searching for new genes whose expression might be regulated by the transcription factor that binds to that consensus sequence. \n",
    "\n",
    "Let's take the example of a *C. elegans* transcription factor, ELF-1. The preferred nucleotides that this transcription factor binds to is illustrated below:\n",
    "\n",
    "![alt text](imgs/ELF-1_consensus.jpg)\n",
    "\n",
    "http://motifmap.ics.uci.edu/"
   ]
  },
  {
   "cell_type": "markdown",
   "metadata": {},
   "source": [
    "## Making a test for our Regular Expression\n",
    "\n",
    "Before we start searching for our regular expresssion, we should develop some test for it to help us build a good pattern to use. When we develop the test we should think about the edge cases we might encounter, such as no input sequence is provided, a protein sequence is provided instead of a dna sequence, or incorrect nucleotides are included at a position where they shouldn't be for that consensus sequence. We should also add some examples that we expect to work."
   ]
  },
  {
   "cell_type": "code",
   "execution_count": 13,
   "metadata": {
    "collapsed": true
   },
   "outputs": [],
   "source": [
    "def test_elf1_consensus():\n",
    "    assert elf1_consensus('') == None, 'should return none if given an empty string'\n",
    "    assert elf1_consensus('SRTYRTRAEMQPLM') == None, 'should not match protien sequences'\n",
    "    assert elf1_consensus('GCTGGTTT') == None, 'should not match this sequence'\n",
    "    assert elf1_consensus('ATTGGTTT') == None, 'should not match this sequence'\n",
    "    assert elf1_consensus('ACTGGTTT') == ['ACTGGTTT'], 'should match this sequence'"
   ]
  },
  {
   "cell_type": "markdown",
   "metadata": {},
   "source": [
    "When we run the test the first time, it should fail, since we have yet to write the function, `elf1_consensus()` which\n",
    "will perform our regular expression search and matching."
   ]
  },
  {
   "cell_type": "code",
   "execution_count": 14,
   "metadata": {
    "collapsed": false
   },
   "outputs": [
    {
     "ename": "NameError",
     "evalue": "name 'elf1_consensus' is not defined",
     "output_type": "error",
     "traceback": [
      "\u001b[0;31m---------------------------------------------------------------------------\u001b[0m",
      "\u001b[0;31mNameError\u001b[0m                                 Traceback (most recent call last)",
      "\u001b[0;32m<ipython-input-14-3b04608d86ae>\u001b[0m in \u001b[0;36m<module>\u001b[0;34m()\u001b[0m\n\u001b[0;32m----> 1\u001b[0;31m \u001b[0mtest_elf1_consensus\u001b[0m\u001b[0;34m(\u001b[0m\u001b[0;34m)\u001b[0m\u001b[0;34m\u001b[0m\u001b[0m\n\u001b[0m",
      "\u001b[0;32m<ipython-input-13-f74e069989b4>\u001b[0m in \u001b[0;36mtest_elf1_consensus\u001b[0;34m()\u001b[0m\n\u001b[1;32m      1\u001b[0m \u001b[0;32mdef\u001b[0m \u001b[0mtest_elf1_consensus\u001b[0m\u001b[0;34m(\u001b[0m\u001b[0;34m)\u001b[0m\u001b[0;34m:\u001b[0m\u001b[0;34m\u001b[0m\u001b[0m\n\u001b[0;32m----> 2\u001b[0;31m     \u001b[0;32massert\u001b[0m \u001b[0melf1_consensus\u001b[0m\u001b[0;34m(\u001b[0m\u001b[0;34m''\u001b[0m\u001b[0;34m)\u001b[0m \u001b[0;34m==\u001b[0m \u001b[0;32mNone\u001b[0m\u001b[0;34m,\u001b[0m \u001b[0;34m'should return none if given an empty string'\u001b[0m\u001b[0;34m\u001b[0m\u001b[0m\n\u001b[0m\u001b[1;32m      3\u001b[0m     \u001b[0;32massert\u001b[0m \u001b[0melf1_consensus\u001b[0m\u001b[0;34m(\u001b[0m\u001b[0;34m'SRTYRTRAEMQPLM'\u001b[0m\u001b[0;34m)\u001b[0m \u001b[0;34m==\u001b[0m \u001b[0;32mNone\u001b[0m\u001b[0;34m,\u001b[0m \u001b[0;34m'should not match protien sequences'\u001b[0m\u001b[0;34m\u001b[0m\u001b[0m\n\u001b[1;32m      4\u001b[0m     \u001b[0;32massert\u001b[0m \u001b[0melf1_consensus\u001b[0m\u001b[0;34m(\u001b[0m\u001b[0;34m'GCTGGTTT'\u001b[0m\u001b[0;34m)\u001b[0m \u001b[0;34m==\u001b[0m \u001b[0;32mNone\u001b[0m\u001b[0;34m,\u001b[0m \u001b[0;34m'should not match this sequence'\u001b[0m\u001b[0;34m\u001b[0m\u001b[0m\n\u001b[1;32m      5\u001b[0m     \u001b[0;32massert\u001b[0m \u001b[0melf1_consensus\u001b[0m\u001b[0;34m(\u001b[0m\u001b[0;34m'ATTGGTTT'\u001b[0m\u001b[0;34m)\u001b[0m \u001b[0;34m==\u001b[0m \u001b[0;32mNone\u001b[0m\u001b[0;34m,\u001b[0m \u001b[0;34m'should not match this sequence'\u001b[0m\u001b[0;34m\u001b[0m\u001b[0m\n",
      "\u001b[0;31mNameError\u001b[0m: name 'elf1_consensus' is not defined"
     ]
    }
   ],
   "source": [
    "test_elf1_consensus()"
   ]
  },
  {
   "cell_type": "markdown",
   "metadata": {},
   "source": [
    "Let's now start to write the actual `elf1_consensus()` function, for the case that we get no input:"
   ]
  },
  {
   "cell_type": "code",
   "execution_count": 15,
   "metadata": {
    "collapsed": false
   },
   "outputs": [],
   "source": [
    "def elf1_consensus(sequence_to_search):\n",
    "    if sequence_to_search == '':\n",
    "        return None"
   ]
  },
  {
   "cell_type": "markdown",
   "metadata": {},
   "source": [
    "Now let's run our test code:"
   ]
  },
  {
   "cell_type": "code",
   "execution_count": 16,
   "metadata": {
    "collapsed": false
   },
   "outputs": [
    {
     "ename": "AssertionError",
     "evalue": "should match this sequence",
     "output_type": "error",
     "traceback": [
      "\u001b[0;31m---------------------------------------------------------------------------\u001b[0m",
      "\u001b[0;31mAssertionError\u001b[0m                            Traceback (most recent call last)",
      "\u001b[0;32m<ipython-input-16-3b04608d86ae>\u001b[0m in \u001b[0;36m<module>\u001b[0;34m()\u001b[0m\n\u001b[0;32m----> 1\u001b[0;31m \u001b[0mtest_elf1_consensus\u001b[0m\u001b[0;34m(\u001b[0m\u001b[0;34m)\u001b[0m\u001b[0;34m\u001b[0m\u001b[0m\n\u001b[0m",
      "\u001b[0;32m<ipython-input-13-f74e069989b4>\u001b[0m in \u001b[0;36mtest_elf1_consensus\u001b[0;34m()\u001b[0m\n\u001b[1;32m      4\u001b[0m     \u001b[0;32massert\u001b[0m \u001b[0melf1_consensus\u001b[0m\u001b[0;34m(\u001b[0m\u001b[0;34m'GCTGGTTT'\u001b[0m\u001b[0;34m)\u001b[0m \u001b[0;34m==\u001b[0m \u001b[0;32mNone\u001b[0m\u001b[0;34m,\u001b[0m \u001b[0;34m'should not match this sequence'\u001b[0m\u001b[0;34m\u001b[0m\u001b[0m\n\u001b[1;32m      5\u001b[0m     \u001b[0;32massert\u001b[0m \u001b[0melf1_consensus\u001b[0m\u001b[0;34m(\u001b[0m\u001b[0;34m'ATTGGTTT'\u001b[0m\u001b[0;34m)\u001b[0m \u001b[0;34m==\u001b[0m \u001b[0;32mNone\u001b[0m\u001b[0;34m,\u001b[0m \u001b[0;34m'should not match this sequence'\u001b[0m\u001b[0;34m\u001b[0m\u001b[0m\n\u001b[0;32m----> 6\u001b[0;31m     \u001b[0;32massert\u001b[0m \u001b[0melf1_consensus\u001b[0m\u001b[0;34m(\u001b[0m\u001b[0;34m'ACTGGTTT'\u001b[0m\u001b[0;34m)\u001b[0m \u001b[0;34m==\u001b[0m \u001b[0;34m[\u001b[0m\u001b[0;34m'ACTGGTTT'\u001b[0m\u001b[0;34m]\u001b[0m\u001b[0;34m,\u001b[0m \u001b[0;34m'should match this sequence'\u001b[0m\u001b[0;34m\u001b[0m\u001b[0m\n\u001b[0m",
      "\u001b[0;31mAssertionError\u001b[0m: should match this sequence"
     ]
    }
   ],
   "source": [
    "test_elf1_consensus()"
   ]
  },
  {
   "cell_type": "markdown",
   "metadata": {},
   "source": [
    "We passed the first few tests, but not others, let's now try to address these by adding a regular expression pattern to our function:"
   ]
  },
  {
   "cell_type": "code",
   "execution_count": 17,
   "metadata": {
    "collapsed": false
   },
   "outputs": [],
   "source": [
    "def elf1_consensus(sequence_to_search):\n",
    "    if sequence_to_search == '':\n",
    "        return None\n",
    "    \n",
    "    first_elf1site = re.findall('([AT]C[TCA]GGTT[TCG])', sequence_to_search)\n",
    "    \n",
    "    if first_elf1site:\n",
    "        return first_elf1site\n",
    "    \n",
    "    return None"
   ]
  },
  {
   "cell_type": "markdown",
   "metadata": {},
   "source": [
    "Let's test out the function again:"
   ]
  },
  {
   "cell_type": "code",
   "execution_count": 18,
   "metadata": {
    "collapsed": false
   },
   "outputs": [],
   "source": [
    "test_elf1_consensus()"
   ]
  },
  {
   "cell_type": "markdown",
   "metadata": {},
   "source": [
    "This looks great, but we forgot a test case... what if the sequence is provided in lower case? There are two options in Python:\n",
    "\n",
    "1. We can provide the lower case options in our regular expression. For example if the nucleotide could be `G` or `A`, we could write that as `[GgAa]`.\n",
    "\n",
    "2. Or we can use the `re.compile()` function with the `re.IGNORECASE` argument.\n",
    "\n",
    "Option #2 is easier to read, and so we can try that. Let's first add the case to our test, and then test our function."
   ]
  },
  {
   "cell_type": "code",
   "execution_count": 19,
   "metadata": {
    "collapsed": true
   },
   "outputs": [],
   "source": [
    "def test_elf1_consensus():\n",
    "    assert elf1_consensus('') == None, 'should return none if given an empty string'\n",
    "    assert elf1_consensus('SRTYRTRAEMQPLM') == None, 'should not match protien sequences'\n",
    "    assert elf1_consensus('GCTGGTTT') == None, 'should not match this sequence'\n",
    "    assert elf1_consensus('ATTGGTTT') == None, 'should not match this sequence'\n",
    "    assert elf1_consensus('ACTGGTTT') == ['ACTGGTTT'], 'should match this sequence'\n",
    "    assert elf1_consensus('actggttt') == ['actggttt'], 'should match this sequence'"
   ]
  },
  {
   "cell_type": "markdown",
   "metadata": {},
   "source": [
    "Now let's run the test."
   ]
  },
  {
   "cell_type": "code",
   "execution_count": 20,
   "metadata": {
    "collapsed": false
   },
   "outputs": [
    {
     "ename": "AssertionError",
     "evalue": "should match this sequence",
     "output_type": "error",
     "traceback": [
      "\u001b[0;31m---------------------------------------------------------------------------\u001b[0m",
      "\u001b[0;31mAssertionError\u001b[0m                            Traceback (most recent call last)",
      "\u001b[0;32m<ipython-input-20-3b04608d86ae>\u001b[0m in \u001b[0;36m<module>\u001b[0;34m()\u001b[0m\n\u001b[0;32m----> 1\u001b[0;31m \u001b[0mtest_elf1_consensus\u001b[0m\u001b[0;34m(\u001b[0m\u001b[0;34m)\u001b[0m\u001b[0;34m\u001b[0m\u001b[0m\n\u001b[0m",
      "\u001b[0;32m<ipython-input-19-073187196004>\u001b[0m in \u001b[0;36mtest_elf1_consensus\u001b[0;34m()\u001b[0m\n\u001b[1;32m      5\u001b[0m     \u001b[0;32massert\u001b[0m \u001b[0melf1_consensus\u001b[0m\u001b[0;34m(\u001b[0m\u001b[0;34m'ATTGGTTT'\u001b[0m\u001b[0;34m)\u001b[0m \u001b[0;34m==\u001b[0m \u001b[0;32mNone\u001b[0m\u001b[0;34m,\u001b[0m \u001b[0;34m'should not match this sequence'\u001b[0m\u001b[0;34m\u001b[0m\u001b[0m\n\u001b[1;32m      6\u001b[0m     \u001b[0;32massert\u001b[0m \u001b[0melf1_consensus\u001b[0m\u001b[0;34m(\u001b[0m\u001b[0;34m'ACTGGTTT'\u001b[0m\u001b[0;34m)\u001b[0m \u001b[0;34m==\u001b[0m \u001b[0;34m[\u001b[0m\u001b[0;34m'ACTGGTTT'\u001b[0m\u001b[0;34m]\u001b[0m\u001b[0;34m,\u001b[0m \u001b[0;34m'should match this sequence'\u001b[0m\u001b[0;34m\u001b[0m\u001b[0m\n\u001b[0;32m----> 7\u001b[0;31m     \u001b[0;32massert\u001b[0m \u001b[0melf1_consensus\u001b[0m\u001b[0;34m(\u001b[0m\u001b[0;34m'actggttt'\u001b[0m\u001b[0;34m)\u001b[0m \u001b[0;34m==\u001b[0m \u001b[0;34m[\u001b[0m\u001b[0;34m'actggttt'\u001b[0m\u001b[0;34m]\u001b[0m\u001b[0;34m,\u001b[0m \u001b[0;34m'should match this sequence'\u001b[0m\u001b[0;34m\u001b[0m\u001b[0m\n\u001b[0m",
      "\u001b[0;31mAssertionError\u001b[0m: should match this sequence"
     ]
    }
   ],
   "source": [
    "test_elf1_consensus()"
   ]
  },
  {
   "cell_type": "markdown",
   "metadata": {},
   "source": [
    "As expected, our new test fails, so let's implement the case-insensitivity feature into the function."
   ]
  },
  {
   "cell_type": "code",
   "execution_count": 21,
   "metadata": {
    "collapsed": false
   },
   "outputs": [],
   "source": [
    "def elf1_consensus(sequence_to_search):\n",
    "    if sequence_to_search == '':\n",
    "        return None\n",
    "    \n",
    "    elf1_pattern = re.compile('([AT]C[TCA]GGTT[TCG])', re.IGNORECASE)\n",
    "    \n",
    "    first_elf1site = elf1_pattern.findall(sequence_to_search)\n",
    "    \n",
    "    if first_elf1site:\n",
    "        return first_elf1site\n",
    "    \n",
    "    return None"
   ]
  },
  {
   "cell_type": "markdown",
   "metadata": {},
   "source": [
    "Now let's run the test."
   ]
  },
  {
   "cell_type": "code",
   "execution_count": 22,
   "metadata": {
    "collapsed": false
   },
   "outputs": [],
   "source": [
    "test_elf1_consensus()"
   ]
  },
  {
   "cell_type": "markdown",
   "metadata": {},
   "source": [
    "Whoohoo! It passed! Now we have confidence that our regular expression will find what we want it to find, and only what we want it to find when given a big sequence. Let's now use it on some real sequences to look for ELF-1 binding sites!"
   ]
  },
  {
   "cell_type": "markdown",
   "metadata": {},
   "source": [
    "### Load the sequence data \n",
    "\n",
    "Again we'll use `screed` to load the sequence data from the fasta file. We are loading a large region of chromosome II which contains the following genes:\n",
    "\n",
    "![alt text](imgs/F25B4_genes.png)"
   ]
  },
  {
   "cell_type": "code",
   "execution_count": 23,
   "metadata": {
    "collapsed": false
   },
   "outputs": [
    {
     "name": "stdout",
     "output_type": "stream",
     "text": [
      "gagaaataacaaacactactgctgcttccccaggagacaccgggagagactcatacaataaggaggtgaatcacgcattgctaatctaatctttgcgat\n"
     ]
    }
   ],
   "source": [
    "# assign filename to variable\n",
    "F25B4fastafile = \"data/F25B4Sequence.fasta\"\n",
    "\n",
    "# Loop through all the records in fasta file and assign to \n",
    "# variables (assuming only one genome is in the file)\n",
    "for record in screed.open(F25B4fastafile):\n",
    "    F25B4_sequence = record.sequence\n",
    "    \n",
    "print(F25B4_sequence[1:100])"
   ]
  },
  {
   "cell_type": "markdown",
   "metadata": {},
   "source": [
    "Now let's see if there are any transcriptor factor binding sites in this region of the *C. elegans* genome."
   ]
  },
  {
   "cell_type": "code",
   "execution_count": 24,
   "metadata": {
    "collapsed": false
   },
   "outputs": [
    {
     "name": "stdout",
     "output_type": "stream",
     "text": [
      "There are  8 in this region of the genome. They are: ['tccggttt', 'acaggttt', 'tctggttt', 'tctggttt', 'accggttt', 'tctggttc', 'actggttg', 'tctggttt']\n"
     ]
    }
   ],
   "source": [
    "F25B4_elf1_sites = elf1_consensus(F25B4_sequence)\n",
    "\n",
    "print('There are ', len(F25B4_elf1_sites), 'in this region of the genome. They are:', F25B4_elf1_sites)"
   ]
  },
  {
   "cell_type": "markdown",
   "metadata": {},
   "source": [
    "## Challenge\n",
    "\n",
    "1. Can you modify the `test_elf1_consensus()` and `elf1_consensus()` functions to find the position of the transcription factor binding site(s)? From these results, what genes from the above list might be regulated by ELF-1?\n",
    "\n",
    "2. Make a function and a test function so that you could find matching sequences to this preferred sequence for the transcription factor TRA-1:\n",
    "![alt text](imgs/TRA-1.jpg)"
   ]
  }
 ],
 "metadata": {
  "kernelspec": {
   "display_name": "Python 3",
   "language": "python",
   "name": "python3"
  },
  "language_info": {
   "codemirror_mode": {
    "name": "ipython",
    "version": 3
   },
   "file_extension": ".py",
   "mimetype": "text/x-python",
   "name": "python",
   "nbconvert_exporter": "python",
   "pygments_lexer": "ipython3",
   "version": "3.4.3"
  }
 },
 "nbformat": 4,
 "nbformat_minor": 0
}
