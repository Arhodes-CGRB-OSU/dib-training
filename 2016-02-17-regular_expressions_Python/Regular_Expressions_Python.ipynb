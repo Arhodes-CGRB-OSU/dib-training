{
 "cells": [
  {
   "cell_type": "markdown",
   "metadata": {},
   "source": [
    "## Loading fasta files via Biopython\n",
    "https://github.com/peterjc/biopython_workshop/blob/master/reading_sequence_files/README.rst"
   ]
  },
  {
   "cell_type": "code",
   "execution_count": 20,
   "metadata": {
    "collapsed": true
   },
   "outputs": [],
   "source": [
    "# load library\n",
    "from Bio import SeqIO"
   ]
  },
  {
   "cell_type": "code",
   "execution_count": 44,
   "metadata": {
    "collapsed": false
   },
   "outputs": [
    {
     "name": "stdout",
     "output_type": "stream",
     "text": [
      "ID: gi|218665024|ref|NC_011761.1|\n",
      "length: 2982397\n",
      "AGTTAAAAGAAAAAATATAAATTATTTTTATAAAGAGACGCCATCGATC\n"
     ]
    }
   ],
   "source": [
    "# read a single fasta file\n",
    "record = SeqIO.read(\"Acidithiobacillus_ferrooxidans.fasta\", \"fasta\")\n",
    "\n",
    "# print sequence ID\n",
    "print('ID:', record.id)\n",
    "\n",
    "# print sequence length\n",
    "print('length:', len(record))\n",
    "\n",
    "# make a variable containing only the \n",
    "seq = str(record.seq)\n",
    "print(seq[1:50])"
   ]
  },
  {
   "cell_type": "markdown",
   "metadata": {},
   "source": [
    "## Loading fasta files via Screed\n",
    "http://screed.readthedocs.org/en/latest/screed.html"
   ]
  },
  {
   "cell_type": "code",
   "execution_count": 30,
   "metadata": {
    "collapsed": true
   },
   "outputs": [],
   "source": [
    "import screed"
   ]
  },
  {
   "cell_type": "code",
   "execution_count": 86,
   "metadata": {
    "collapsed": false
   },
   "outputs": [
    {
     "name": "stdout",
     "output_type": "stream",
     "text": [
      "gi|218665024|ref|NC_011761.1| Acidithiobacillus ferrooxidans ATCC 23270, complete genome\n",
      "AGTTAAAAGAAAAAATATAAATTATTTTTATAAAGAGACGCCATCGATCCCTTTCCAGTCCTGGCATTCTAGGAGCACATCCCGATGAAAATCACCATA\n"
     ]
    }
   ],
   "source": [
    "# assign filename to variable\n",
    "Genomefastafile = \"Acidithiobacillus_ferrooxidans.fasta\"\n",
    "\n",
    "# Loop through all the records in fasta file and assign to \n",
    "# variables (assuming only one genome is in the file)\n",
    "for record in screed.open(Genomefastafile):\n",
    "    Genome_seqname = record.name\n",
    "    Genome_sequence = record.sequence\n",
    "    \n",
    "print(Genome_seqname)\n",
    "print(Genome_sequence[1:100])"
   ]
  },
  {
   "cell_type": "markdown",
   "metadata": {},
   "source": [
    "## Loading fasta files via base Python\n",
    "http://pythonforbiologists.com/index.php/introduction-to-python-for-biologists/reading-and-writing-files/"
   ]
  },
  {
   "cell_type": "code",
   "execution_count": 46,
   "metadata": {
    "collapsed": false
   },
   "outputs": [
    {
     "name": "stdout",
     "output_type": "stream",
     "text": [
      "gi|218665024|ref|NC_011761.1| Acidithiobacillus ferrooxidans ATCC 23270, complete genome\n",
      "TAGTTAAAAGAAAAAATATAAATTATTTTTATAAAGAGACGCCATCGATCCCTTTCCAGT\n"
     ]
    }
   ],
   "source": [
    "fasta_file = open(\"Acidithiobacillus_ferrooxidans.fasta\")\n",
    "seq = fasta_file.read().rstrip(\"\\n\")\n",
    "print(seq[1:150])\n",
    "# would need to use regex to get rid of ID"
   ]
  },
  {
   "cell_type": "markdown",
   "metadata": {},
   "source": [
    "## Find Crispr repeats"
   ]
  },
  {
   "cell_type": "markdown",
   "metadata": {},
   "source": [
    "### Load Crispr repeat seqeunces"
   ]
  },
  {
   "cell_type": "code",
   "execution_count": 59,
   "metadata": {
    "collapsed": false
   },
   "outputs": [
    {
     "name": "stdout",
     "output_type": "stream",
     "text": [
      "{'NC_011761_5': 'GGGCGATTCGTTTCACCTCCTCCGC', 'NC_011761_3': 'GTATGCCGCCAGGTGCGCGGCTGAGAAC', 'NC_011761_6': 'CCTGGTCAGTACAACAACGGCTACGG', 'NC_011761_4': 'GTATGCCGCCATATGCGCAGCTTGTAAT', 'NC_011761_1': 'CTTCTCAGCCGCGCGTGTGGCGGCATACCGC', 'NC_011761_2': 'CTTCTCAGCCGCGCGTGTGGCGGCATACCGC'}\n"
     ]
    }
   ],
   "source": [
    "# assign filename to variable\n",
    "Crisprfastafile = \"Acidithiobacillus_ferrooxidans_Crispr.fasta\"\n",
    "\n",
    "# Create empty lists to append sequences to\n",
    "Crispr_seqname = list()\n",
    "Crispr_sequence = list()\n",
    "\n",
    "# Loop through all the records in fasta file and add them the the lists\n",
    "for record in screed.open(Crisprfastafile):\n",
    "    Crispr_seqname.append(record.name)\n",
    "    Crispr_sequence.append(record.sequence) \n",
    "\n",
    "# zip the two lists together to make a dictionary\n",
    "Crispr_repeats = dict(zip(Crispr_seqname, Crispr_sequence))\n",
    " \n",
    "# print the dictionary to view the seqeunces and their names    \n",
    "print(Crispr_repeats)"
   ]
  },
  {
   "cell_type": "markdown",
   "metadata": {},
   "source": [
    "### Access the sequence of a single repeat"
   ]
  },
  {
   "cell_type": "code",
   "execution_count": 90,
   "metadata": {
    "collapsed": false
   },
   "outputs": [
    {
     "data": {
      "text/plain": [
       "'CTTCTCAGCCGCGCGTGTGGCGGCATACCGC'"
      ]
     },
     "execution_count": 90,
     "metadata": {},
     "output_type": "execute_result"
    }
   ],
   "source": [
    "# select the sequence from the dictionary by subsetting it's key\n",
    "Crispr_repeats['NC_011761_2']"
   ]
  },
  {
   "cell_type": "markdown",
   "metadata": {},
   "source": [
    "### Import regular expression library"
   ]
  },
  {
   "cell_type": "code",
   "execution_count": 89,
   "metadata": {
    "collapsed": true
   },
   "outputs": [],
   "source": [
    "import re"
   ]
  },
  {
   "cell_type": "markdown",
   "metadata": {},
   "source": [
    "### Find a single repeat in genome"
   ]
  },
  {
   "cell_type": "code",
   "execution_count": 145,
   "metadata": {
    "collapsed": false
   },
   "outputs": [
    {
     "name": "stdout",
     "output_type": "stream",
     "text": [
      "matching sequence for NC_011761_2 Crispr is: CTTCTCAGCCGCGCGTGTGGCGGCATACCGC\n"
     ]
    }
   ],
   "source": [
    "# use re.search to find sequence in genome, inputs are 1) pattern and 2) string to search for pattern\n",
    "# '(' and ')' surround the string that you want to capture\n",
    "second_repeat = re.search('(' + Crispr_repeats['NC_011761_2'] + ')', Genome_sequence)\n",
    "\n",
    "# re.search object has has a method called group() for what it matched (one group per capture group)\n",
    "print('matching sequence for NC_011761_2 Crispr is:', second_repeat.group(1))"
   ]
  },
  {
   "cell_type": "code",
   "execution_count": 146,
   "metadata": {
    "collapsed": false
   },
   "outputs": [
    {
     "name": "stdout",
     "output_type": "stream",
     "text": [
      "matching sequence postition for NC_011761_2 Crispr is: (934846, 934877)\n"
     ]
    }
   ],
   "source": [
    "# re.search object also has position information!\n",
    "print('matching sequence postition for NC_011761_2 Crispr is:', second_repeat.span())"
   ]
  },
  {
   "cell_type": "markdown",
   "metadata": {},
   "source": [
    "### Compile a pattern ahead of time for speed and readability"
   ]
  },
  {
   "cell_type": "code",
   "execution_count": 160,
   "metadata": {
    "collapsed": false
   },
   "outputs": [
    {
     "name": "stdout",
     "output_type": "stream",
     "text": [
      "matching sequence for NC_011761_2 Crispr is: CTTCTCAGCCGCGCGTGTGGCGGCATACCGC\n"
     ]
    }
   ],
   "source": [
    "# specify and compile pattern ahead of time\n",
    "NC_011761_2pattern = re.compile('(' + Crispr_repeats['NC_011761_2'] + ')')\n",
    "\n",
    "# then use re.search \n",
    "second_repeat = NC_011761_2pattern.search(Genome_sequence)\n",
    "print('matching sequence for NC_011761_2 Crispr is:', second_repeat.group(1))"
   ]
  },
  {
   "cell_type": "markdown",
   "metadata": {},
   "source": [
    "### Use re.findall to find multiple repeats"
   ]
  },
  {
   "cell_type": "code",
   "execution_count": 151,
   "metadata": {
    "collapsed": false
   },
   "outputs": [
    {
     "name": "stdout",
     "output_type": "stream",
     "text": [
      "All the matches are: ['CTTCTCAGCCGCGCGTGTGGCGGCATACCGC', 'CTTCTCAGCCGCGCGTGTGGCGGCATACCGC']\n"
     ]
    }
   ],
   "source": [
    "# specify and compile pattern ahead of time\n",
    "NC_011761_2pattern = re.compile('(' + Crispr_repeats['NC_011761_2'] + ')')\n",
    "\n",
    "# search for all occurrences of pattern\n",
    "second_repeat_matches = NC_011761_2pattern.findall(Genome_sequence)\n",
    "print('All the matches are:', second_repeat_matches)"
   ]
  },
  {
   "cell_type": "markdown",
   "metadata": {},
   "source": [
    "### Find unknown sequence between Crispr repeats"
   ]
  },
  {
   "cell_type": "code",
   "execution_count": 153,
   "metadata": {
    "collapsed": false
   },
   "outputs": [
    {
     "name": "stdout",
     "output_type": "stream",
     "text": [
      "All the matches are: ['TGATCATCTTGGTAGACCGCGACATATCA']\n"
     ]
    }
   ],
   "source": [
    "# put capture group between sequences\n",
    "NC_011761_2spacerspattern = re.compile(Crispr_repeats['NC_011761_2'] + '([ATCG]+)' + Crispr_repeats['NC_011761_2'])\n",
    "\n",
    "# search for all occurrences of pattern\n",
    "second_repeat_spacers = NC_011761_2spacerspattern.findall(Genome_sequence)\n",
    "print('All the matches are:', second_repeat_spacers)"
   ]
  },
  {
   "cell_type": "markdown",
   "metadata": {},
   "source": [
    "## Challenge\n",
    "\n",
    "1. Find and print all the spacers for the 3rd Crispr (NC_011761_3) of A. ferrooxidans. \n",
    "\n",
    "2. Can you find the position of the spacer(s) as well?"
   ]
  },
  {
   "cell_type": "markdown",
   "metadata": {},
   "source": [
    "### Finding positions of multiple matches"
   ]
  },
  {
   "cell_type": "code",
   "execution_count": 172,
   "metadata": {
    "collapsed": false
   },
   "outputs": [],
   "source": [
    "# put capture group between sequences\n",
    "NC_011761_3spacerspattern = re.compile(Crispr_repeats['NC_011761_3'] + '([ATCG]+)' + Crispr_repeats['NC_011761_3'])\n",
    "\n",
    "# use re.finditer instead of re.findall or search\n",
    "thirdspacers = NC_011761_3spacerspattern.finditer(Genome_sequence)\n",
    "\n",
    "# loop over thirdspacers to access matches and positions\n",
    "for match in thirdspacers:\n",
    "    print(match.group(1))"
   ]
  },
  {
   "cell_type": "code",
   "execution_count": 200,
   "metadata": {
    "collapsed": false
   },
   "outputs": [
    {
     "name": "stdout",
     "output_type": "stream",
     "text": [
      "(934846, 934877, 'CTTCTCAGCCGCGCGTGTGGCGGCATACCGC')\n",
      "(934906, 934937, 'CTTCTCAGCCGCGCGTGTGGCGGCATACCGC')\n"
     ]
    }
   ],
   "source": [
    "for mo in re.finditer('('+ 'CTTCTCAGCCGCGCGTGTGGCGGCATACCGC' + ')', Genome_sequence):\n",
    "    print((mo.start(), mo.end(), mo.group(1)))"
   ]
  },
  {
   "cell_type": "code",
   "execution_count": 198,
   "metadata": {
    "collapsed": false
   },
   "outputs": [
    {
     "data": {
      "text/plain": [
       "'(GTATGCCGCCAGGTGCGCGGCTGAGAAC)'"
      ]
     },
     "execution_count": 198,
     "metadata": {},
     "output_type": "execute_result"
    }
   ],
   "source": [
    "'(' + Crispr_repeats['NC_011761_3'] + ')'"
   ]
  }
 ],
 "metadata": {
  "kernelspec": {
   "display_name": "Python 3",
   "language": "python",
   "name": "python3"
  },
  "language_info": {
   "codemirror_mode": {
    "name": "ipython",
    "version": 3
   },
   "file_extension": ".py",
   "mimetype": "text/x-python",
   "name": "python",
   "nbconvert_exporter": "python",
   "pygments_lexer": "ipython3",
   "version": "3.4.3"
  }
 },
 "nbformat": 4,
 "nbformat_minor": 0
}
